{
 "cells": [
  {
   "cell_type": "code",
   "execution_count": 209,
   "metadata": {},
   "outputs": [],
   "source": [
    "#Data preprocessing\n",
    "import pandas as pd\n",
    "\n",
    "from numpy import isnan\n",
    "from numpy import nan\n",
    "from pandas import read_csv\n",
    "\n",
    "from datetime import date\n",
    "from datetime import time\n",
    "from datetime import datetime\n",
    "\n",
    "dir = 'CNN_TS_data'\n",
    "fname = 'household_power_consumption.txt'\n",
    "dataset = pd.read_csv('household_power_consumption.txt', sep=';', header=0, low_memory=False, infer_datetime_format=True, parse_dates={'datetime':[0,1]}, index_col='datetime')\n",
    "\n",
    "# mark all missing values\n",
    "dataset.replace('?', nan, inplace=True)\n",
    "# make dataset numeric\n",
    "dataset = dataset.astype('float32')\n",
    "\n",
    "# fill missing values with a value at the same time one day ago\n",
    "def fill_missing(values):\n",
    "\tone_day = 60 * 24\n",
    "\tfor row in range(values.shape[0]):\n",
    "\t\tfor col in range(values.shape[1]):\n",
    "\t\t\tif isnan(values[row, col]):\n",
    "\t\t\t\tvalues[row, col] = values[row - one_day, col]\n",
    "\n",
    "# fill missing\n",
    "fill_missing(dataset.values)\n",
    "\n",
    "# save updated dataset\n",
    "dataset.to_csv('household_power_consumption.csv')\n"
   ]
  },
  {
   "cell_type": "code",
   "execution_count": 210,
   "metadata": {},
   "outputs": [],
   "source": [
    "# resample minute data to total for half hour \n",
    "# load the new file\n",
    "dataset = read_csv('household_power_consumption.csv', header=0, infer_datetime_format=True, parse_dates=['datetime'], index_col=['datetime'])\n",
    "\n",
    "# resample data to half hour data\n",
    "halfhour_groups = dataset.resample('30min')\n",
    "halfhour_data = halfhour_groups.sum()\n",
    "\n",
    "#Drop values with zeros and remove duplicates\n",
    "halfhour_data = halfhour_data[(halfhour_data[['Global_active_power']] != 0).all(axis=1)]\n",
    "halfhour_data = halfhour_data[~halfhour_data.index.duplicated()]\n",
    "\n",
    "# save\n",
    "halfhour_data.to_csv('household_power_consumption_halfhour.csv')\n"
   ]
  },
  {
   "cell_type": "code",
   "execution_count": 211,
   "metadata": {},
   "outputs": [],
   "source": [
    "#Seperate date and time from index\n",
    "halfhour_data['Date'] = [d.date() for d in halfhour_data.index]\n",
    "halfhour_data['Time'] = [d.time() for d in halfhour_data.index]\n",
    "\n",
    "#Seperate columns for day, month and year\n",
    "halfhour_data['day'] = halfhour_data.index.day\n",
    "halfhour_data['month'] = halfhour_data.index.month\n",
    "halfhour_data['year'] = halfhour_data.index.year\n",
    "\n",
    "#Seperate hour, minute and seconds from time\n",
    "halfhour_data[['h','m','s']] = halfhour_data['Time'].astype(str).str.split(':', expand=True).astype(int)\n",
    "\n",
    "#Assign day of week\n",
    "halfhour_data['day_of_week'] = halfhour_data.index.day_name()"
   ]
  },
  {
   "cell_type": "code",
   "execution_count": 212,
   "metadata": {},
   "outputs": [],
   "source": [
    "#assign value 1 to weekends and 0 to weekdays\n",
    "halfhour_data['holiday_flag'] = ((pd.DatetimeIndex(halfhour_data.index).dayofweek) // 5 == 1).astype(float)"
   ]
  },
  {
   "cell_type": "code",
   "execution_count": 213,
   "metadata": {},
   "outputs": [],
   "source": [
    "import numpy as np\n",
    "import pandas as pd\n",
    "\n",
    "halfhour_data['holiday_flag'] = np.where((halfhour_data.day == 24) & (halfhour_data.month == 12)\n",
    "                     , '1.0', df['holiday_flag'])\n",
    "halfhour_data['holiday_flag'] = np.where((halfhour_data.day == 25) & (halfhour_data.month == 12)\n",
    "                     , '1.0', df['holiday_flag'])\n",
    "halfhour_data['holiday_flag'] = np.where((halfhour_data.day == 26) & (halfhour_data.month == 12)\n",
    "                     , '1.0', df['holiday_flag'])\n",
    "halfhour_data['holiday_flag'] = np.where((halfhour_data.day == 31) & (halfhour_data.month == 12)\n",
    "                     , '1.0', df['holiday_flag'])\n",
    "\n",
    "halfhour_data['holiday_flag'] = np.where((halfhour_data.day == 1) & (halfhour_data.month == 1)\n",
    "                     , '1.0', df['holiday_flag'])\n",
    "\n",
    "halfhour_data['holiday_flag'] = np.where((halfhour_data.day == 1) & (halfhour_data.month == 5)\n",
    "                     , '1.0', df['holiday_flag'])\n",
    "\n",
    "halfhour_data['holiday_flag'] = np.where((halfhour_data.day == 15) & (halfhour_data.month == 8)\n",
    "                     , '1.0', df['holiday_flag'])\n",
    "\n",
    "halfhour_data['holiday_flag'] = np.where((halfhour_data.day == 1) & (halfhour_data.month == 11)\n",
    "                     , '1.0', df['holiday_flag'])\n",
    "halfhour_data['holiday_flag'] = np.where((halfhour_data.day == 11) & (halfhour_data.month == 11)\n",
    "                     , '1.0', df['holiday_flag'])"
   ]
  },
  {
   "cell_type": "code",
   "execution_count": 214,
   "metadata": {},
   "outputs": [],
   "source": [
    "#Save\n",
    "halfhour_data.to_csv('household_power_consumption_halfhour.csv')"
   ]
  },
  {
   "cell_type": "code",
   "execution_count": 220,
   "metadata": {},
   "outputs": [
    {
     "name": "stderr",
     "output_type": "stream",
     "text": [
      "<ipython-input-220-697099667f5f>:5: SettingWithCopyWarning: \n",
      "A value is trying to be set on a copy of a slice from a DataFrame\n",
      "\n",
      "See the caveats in the documentation: https://pandas.pydata.org/pandas-docs/stable/user_guide/indexing.html#returning-a-view-versus-a-copy\n",
      "  halfhour_data['holiday_flag'][halfhour_data.Date == '2006-12-16'] = '1.0'\n"
     ]
    }
   ],
   "source": [
    "import pandas\n",
    "\n",
    "halfhour_data = pandas.read_csv(\"household_power_consumption_halfhour.csv\")\n",
    "\n",
    "halfhour_data['holiday_flag'][halfhour_data.Date == '2006-12-16'] = '1.0'\n",
    "halfhour_data['holiday_flag'][halfhour_data.Date == '2006-12-22'] = '1.0'\n",
    "\n",
    "halfhour_data['holiday_flag'][halfhour_data.Date == '2007-03-21'] = '1.0'\n",
    "halfhour_data['holiday_flag'][halfhour_data.Date == '2007-03-25'] = '1.0'\n",
    "halfhour_data['holiday_flag'][halfhour_data.Date == '2007-04-06'] = '1.0'\n",
    "halfhour_data['holiday_flag'][halfhour_data.Date == '2007-04-08'] = '1.0'\n",
    "halfhour_data['holiday_flag'][halfhour_data.Date == '2007-04-09'] = '1.0'\n",
    "halfhour_data['holiday_flag'][halfhour_data.Date == '2007-05-17'] = '1.0'\n",
    "halfhour_data['holiday_flag'][halfhour_data.Date == '2007-05-27'] = '1.0'\n",
    "halfhour_data['holiday_flag'][halfhour_data.Date == '2007-06-03'] = '1.0'\n",
    "halfhour_data['holiday_flag'][halfhour_data.Date == '2007-06-17'] = '1.0'\n",
    "halfhour_data['holiday_flag'][halfhour_data.Date == '2007-07-21'] = '1.0'\n",
    "halfhour_data['holiday_flag'][halfhour_data.Date == '2007-09-23'] = '1.0'\n",
    "halfhour_data['holiday_flag'][halfhour_data.Date == '2007-10-28'] = '1.0'\n",
    "halfhour_data['holiday_flag'][halfhour_data.Date == '2007-12-22'] = '1.0'\n",
    "\n",
    "halfhour_data['holiday_flag'][halfhour_data.Date == '2008-03-20'] = '1.0'\n",
    "halfhour_data['holiday_flag'][halfhour_data.Date == '2008-03-21'] = '1.0'\n",
    "halfhour_data['holiday_flag'][halfhour_data.Date == '2008-03-23'] = '1.0'\n",
    "halfhour_data['holiday_flag'][halfhour_data.Date == '2008-03-24'] = '1.0'\n",
    "halfhour_data['holiday_flag'][halfhour_data.Date == '2008-03-30'] = '1.0'\n",
    "halfhour_data['holiday_flag'][halfhour_data.Date == '2008-05-08'] = '1.0'\n",
    "halfhour_data['holiday_flag'][halfhour_data.Date == '2008-05-11'] = '1.0'\n",
    "halfhour_data['holiday_flag'][halfhour_data.Date == '2008-05-12'] = '1.0'\n",
    "halfhour_data['holiday_flag'][halfhour_data.Date == '2008-05-25'] = '1.0'\n",
    "halfhour_data['holiday_flag'][halfhour_data.Date == '2008-06-15'] = '1.0'\n",
    "halfhour_data['holiday_flag'][halfhour_data.Date == '2008-06-21'] = '1.0'\n",
    "halfhour_data['holiday_flag'][halfhour_data.Date == '2008-07-14'] = '1.0'\n",
    "halfhour_data['holiday_flag'][halfhour_data.Date == '2008-09-22'] = '1.0'\n",
    "halfhour_data['holiday_flag'][halfhour_data.Date == '2008-10-26'] = '1.0'\n",
    "halfhour_data['holiday_flag'][halfhour_data.Date == '2008-12-21'] = '1.0'\n",
    "\n",
    "halfhour_data['holiday_flag'][halfhour_data.Date == '2009-03-20'] = '1.0'\n",
    "halfhour_data['holiday_flag'][halfhour_data.Date == '2009-03-29'] = '1.0'\n",
    "halfhour_data['holiday_flag'][halfhour_data.Date == '2009-04-10'] = '1.0'\n",
    "halfhour_data['holiday_flag'][halfhour_data.Date == '2009-04-12'] = '1.0'\n",
    "halfhour_data['holiday_flag'][halfhour_data.Date == '2009-04-13'] = '1.0'\n",
    "halfhour_data['holiday_flag'][halfhour_data.Date == '2009-05-08'] = '1.0'\n",
    "halfhour_data['holiday_flag'][halfhour_data.Date == '2009-05-21'] = '1.0'\n",
    "halfhour_data['holiday_flag'][halfhour_data.Date == '2009-05-31'] = '1.0'\n",
    "halfhour_data['holiday_flag'][halfhour_data.Date == '2009-06-01'] = '1.0'\n",
    "halfhour_data['holiday_flag'][halfhour_data.Date == '2009-06-07'] = '1.0'\n",
    "halfhour_data['holiday_flag'][halfhour_data.Date == '2009-06-27'] = '1.0'\n",
    "halfhour_data['holiday_flag'][halfhour_data.Date == '2009-07-14'] = '1.0'\n",
    "halfhour_data['holiday_flag'][halfhour_data.Date == '2009-09-22'] = '1.0'\n",
    "halfhour_data['holiday_flag'][halfhour_data.Date == '2009-10-25'] = '1.0'\n",
    "halfhour_data['holiday_flag'][halfhour_data.Date == '2009-12-21'] = '1.0'\n",
    "\n",
    "halfhour_data['holiday_flag'][halfhour_data.Date == '2010-03-20'] = '1.0'\n",
    "halfhour_data['holiday_flag'][halfhour_data.Date == '2010-03-28'] = '1.0'\n",
    "halfhour_data['holiday_flag'][halfhour_data.Date == '2010-04-02'] = '1.0'\n",
    "halfhour_data['holiday_flag'][halfhour_data.Date == '2010-04-04'] = '1.0'\n",
    "halfhour_data['holiday_flag'][halfhour_data.Date == '2010-04-05'] = '1.0'\n",
    "halfhour_data['holiday_flag'][halfhour_data.Date == '2010-05-08'] = '1.0'\n",
    "halfhour_data['holiday_flag'][halfhour_data.Date == '2010-05-13'] = '1.0'\n",
    "halfhour_data['holiday_flag'][halfhour_data.Date == '2010-05-23'] = '1.0'\n",
    "halfhour_data['holiday_flag'][halfhour_data.Date == '2010-05-24'] = '1.0'\n",
    "halfhour_data['holiday_flag'][halfhour_data.Date == '2010-05-30'] = '1.0'\n",
    "halfhour_data['holiday_flag'][halfhour_data.Date == '2010-06-20'] = '1.0'\n",
    "halfhour_data['holiday_flag'][halfhour_data.Date == '2010-06-21'] = '1.0'\n",
    "halfhour_data['holiday_flag'][halfhour_data.Date == '2010-07-14'] = '1.0'\n",
    "halfhour_data['holiday_flag'][halfhour_data.Date == '2010-09-23'] = '1.0'\n",
    "halfhour_data['holiday_flag'][halfhour_data.Date == '2010-10-31'] = '1.0'"
   ]
  },
  {
   "cell_type": "code",
   "execution_count": 221,
   "metadata": {},
   "outputs": [],
   "source": [
    "#Save\n",
    "halfhour_data.to_csv('household_power_consumption_halfhour.csv')"
   ]
  },
  {
   "cell_type": "code",
   "execution_count": null,
   "metadata": {},
   "outputs": [],
   "source": []
  }
 ],
 "metadata": {
  "kernelspec": {
   "display_name": "Python 3",
   "language": "python",
   "name": "python3"
  },
  "language_info": {
   "codemirror_mode": {
    "name": "ipython",
    "version": 3
   },
   "file_extension": ".py",
   "mimetype": "text/x-python",
   "name": "python",
   "nbconvert_exporter": "python",
   "pygments_lexer": "ipython3",
   "version": "3.8.5"
  }
 },
 "nbformat": 4,
 "nbformat_minor": 4
}
