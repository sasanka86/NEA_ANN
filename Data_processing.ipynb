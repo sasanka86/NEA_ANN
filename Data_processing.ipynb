{
 "cells": [
  {
   "cell_type": "code",
   "execution_count": null,
   "metadata": {},
   "outputs": [],
   "source": [
    "#Data preprocessing\n",
    "import pandas as pd\n",
    "\n",
    "from numpy import isnan\n",
    "from numpy import nan\n",
    "from pandas import read_csv\n",
    "\n",
    "from datetime import date\n",
    "from datetime import time\n",
    "from datetime import datetime\n",
    "\n",
    "dir = 'CNN_TS_data'\n",
    "fname = 'household_power_consumption.txt'\n",
    "dataset = pd.read_csv('household_power_consumption.txt', sep=';', header=0, low_memory=False, infer_datetime_format=True, parse_dates={'datetime':[0,1]}, index_col='datetime')\n",
    "\n",
    "# mark all missing values\n",
    "dataset.replace('?', nan, inplace=True)\n",
    "# make dataset numeric\n",
    "dataset = dataset.astype('float32')\n",
    "\n",
    "# fill missing values with a value at the same time one day ago\n",
    "def fill_missing(values):\n",
    "\tone_day = 60 * 24\n",
    "\tfor row in range(values.shape[0]):\n",
    "\t\tfor col in range(values.shape[1]):\n",
    "\t\t\tif isnan(values[row, col]):\n",
    "\t\t\t\tvalues[row, col] = values[row - one_day, col]\n",
    "\n",
    "# fill missing\n",
    "fill_missing(dataset.values)\n",
    "\n",
    "# save updated dataset\n",
    "dataset.to_csv('household_power_consumption.csv')\n"
   ]
  },
  {
   "cell_type": "code",
   "execution_count": null,
   "metadata": {},
   "outputs": [],
   "source": [
    "# resample minute data to total for half hour \n",
    "# load the new file\n",
    "dataset = read_csv('household_power_consumption.csv', header=0, infer_datetime_format=True, parse_dates=['datetime'], index_col=['datetime'])\n",
    "\n",
    "# resample data to half hour data\n",
    "halfhour_groups = dataset.resample('30min')\n",
    "halfhour_data = halfhour_groups.sum()\n",
    "\n",
    "#Drop values with zeros and remove duplicates\n",
    "halfhour_data = halfhour_data[(halfhour_data[['Global_active_power']] != 0).all(axis=1)]\n",
    "halfhour_data = halfhour_data[~halfhour_data.index.duplicated()]\n",
    "\n",
    "# save\n",
    "halfhour_data.to_csv('household_power_consumption_halfhour.csv')\n"
   ]
  },
  {
   "cell_type": "code",
   "execution_count": null,
   "metadata": {},
   "outputs": [],
   "source": [
    "#Seperate date and time from index\n",
    "halfhour_data['Date'] = [d.date() for d in halfhour_data.index]\n",
    "halfhour_data['Time'] = [d.time() for d in halfhour_data.index]\n",
    "\n",
    "#Seperate column for day, month and year\n",
    "halfhour_data['day'] = halfhour_data.index.day\n",
    "halfhour_data['month'] = halfhour_data.index.month\n",
    "halfhour_data['year'] = halfhour_data.index.year\n",
    "\n",
    "#Seperate hour, minute and seconds from time\n",
    "halfhour_data[['h','m','s']] = halfhour_data['Time'].astype(str).str.split(':', expand=True).astype(int)\n",
    "\n",
    "#Assign day of week\n",
    "halfhour_data['day_of_week'] = halfhour_data.index.day_name()"
   ]
  },
  {
   "cell_type": "code",
   "execution_count": null,
   "metadata": {},
   "outputs": [],
   "source": [
    "#delete unwanted columns\n",
    "halfhour_data = halfhour_data.drop([\"Date\", \"Time\"], axis=1)"
   ]
  },
  {
   "cell_type": "code",
   "execution_count": null,
   "metadata": {},
   "outputs": [],
   "source": [
    "#assign value 1 to weekends and 0 to weekdays\n",
    "halfhour_data['holiday_flag'] = ((pd.DatetimeIndex(halfhour_data.index).dayofweek) // 5 == 1).astype(float)"
   ]
  },
  {
   "cell_type": "code",
   "execution_count": null,
   "metadata": {},
   "outputs": [],
   "source": [
    "#Save to csv file\n",
    "halfhour_data.to_csv('household_power_consumption_halfhour.csv')"
   ]
  },
  {
   "cell_type": "code",
   "execution_count": null,
   "metadata": {},
   "outputs": [],
   "source": []
  }
 ],
 "metadata": {
  "kernelspec": {
   "display_name": "Python 3",
   "language": "python",
   "name": "python3"
  },
  "language_info": {
   "codemirror_mode": {
    "name": "ipython",
    "version": 3
   },
   "file_extension": ".py",
   "mimetype": "text/x-python",
   "name": "python",
   "nbconvert_exporter": "python",
   "pygments_lexer": "ipython3",
   "version": "3.8.5"
  }
 },
 "nbformat": 4,
 "nbformat_minor": 4
}
